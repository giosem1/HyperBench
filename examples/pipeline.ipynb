{
 "cells": [
  {
   "cell_type": "markdown",
   "id": "44827c0f",
   "metadata": {},
   "source": [
    "# Install library through pip \n",
    "\n",
    "Pytorch and torch-geometric are required dependencies\n",
    "\n",
    "We support the following versions:\n",
    "- torch>=1.13.0\n",
    "- torch-geometric>=2.6.1"
   ]
  },
  {
   "cell_type": "code",
   "execution_count": null,
   "id": "5f9b95cb",
   "metadata": {},
   "outputs": [
    {
     "name": "stdout",
     "output_type": "stream",
     "text": [
      "Requirement already satisfied: pip in /opt/homebrew/lib/python3.10/site-packages (25.2)\n",
      "\u001b[31mERROR: Ignored the following versions that require a different python version: 0.1 Requires-Python >=3.13; 0.1.1 Requires-Python >=3.13; 0.1.2.1 Requires-Python >=3.13; 0.1.2.3 Requires-Python >=3.13; 0.1.2.4 Requires-Python >=3.13; 0.1.2.5 Requires-Python >=3.13; 0.1.2.6 Requires-Python >=3.13\u001b[0m\u001b[31m\n",
      "\u001b[0m\u001b[31mERROR: Could not find a version that satisfies the requirement hypernegative==0.1.2.6 (from versions: none)\u001b[0m\u001b[31m\n",
      "\u001b[0m\u001b[31mERROR: No matching distribution found for hypernegative==0.1.2.6\u001b[0m\u001b[31m\n",
      "\u001b[0m"
     ]
    }
   ],
   "source": [
    "!pip install hypernegative\n",
    "# if not installed, please install pytorch and torch-geometric first\n",
    "# !pip install torch\n",
    "# !pip install torch-geometric"
   ]
  },
  {
   "cell_type": "markdown",
   "id": "2fb9b44b",
   "metadata": {},
   "source": [
    "## Pipelines\n",
    "\n",
    "pipelines help to easily create a training and evaluation loop for a given model and dataset.\n"
   ]
  },
  {
   "cell_type": "code",
   "execution_count": null,
   "id": "de2ac074",
   "metadata": {},
   "outputs": [],
   "source": [
    "import subprocess\n",
    "\n",
    "subprocess.run([\n",
    "    \"pipeline\",\n",
    "    \"--dataset_name\", \"COURSERA\",\n",
    "    \"--negative_sampling\", \"MotifHypergraphNegativeSampler\",\n",
    "    \"--hlp_method\", \"CommonNeighbors\"\n",
    "])"
   ]
  }
 ],
 "metadata": {
  "kernelspec": {
   "display_name": ".venv",
   "language": "python",
   "name": "python3"
  },
  "language_info": {
   "codemirror_mode": {
    "name": "ipython",
    "version": 3
   },
   "file_extension": ".py",
   "mimetype": "text/x-python",
   "name": "python",
   "nbconvert_exporter": "python",
   "pygments_lexer": "ipython3",
   "version": "3.13.7"
  }
 },
 "nbformat": 4,
 "nbformat_minor": 5
}
